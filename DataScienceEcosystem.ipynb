{
 "cells": [
  {
   "cell_type": "markdown",
   "id": "5ecaa656",
   "metadata": {},
   "source": [
    "# Data Science Tools and Ecosystem\n",
    "### In this notebook, Data Science Tools and Ecosystem are summarized."
   ]
  },
  {
   "cell_type": "markdown",
   "id": "1958400f",
   "metadata": {},
   "source": [
    "### Some of the popular languages that Data Scientists use are:\n",
    "\n",
    "1. Python\n",
    "2. R\n",
    "3. SQL\n",
    "4. Julia\n",
    "5. JAVA"
   ]
  },
  {
   "cell_type": "markdown",
   "id": "0ebf6cfb",
   "metadata": {},
   "source": [
    "### Some of the commonly used libraries used by Data Scientists include:\n",
    "\n",
    "1. Scikit-Learn\n",
    "2. TensorFlow\n",
    "3. Numpy\n",
    "4. Pandas\n",
    "5. Matplotlib\n",
    "6. Seaborn\n",
    "7. Plotly"
   ]
  },
  {
   "cell_type": "markdown",
   "id": "6cdac62b",
   "metadata": {},
   "source": [
    "| Data Science Tools |\n",
    "| ------------------ |\n",
    "| Visual Studio Code |\n",
    "| PyCharm |\n",
    "| Spyder |"
   ]
  },
  {
   "cell_type": "markdown",
   "id": "df1743fd",
   "metadata": {},
   "source": [
    "### Below are a few examples of evaluating arithmetic expressions in Python\n",
    "\n",
    "1. A + B -> Addition\n",
    "2. A - B -> Substraction\n",
    "3. A * B -> Multiplication"
   ]
  },
  {
   "cell_type": "code",
   "execution_count": null,
   "id": "b0534584",
   "metadata": {},
   "outputs": [
    {
     "data": {
      "text/plain": [
       "19"
      ]
     },
     "execution_count": 2,
     "metadata": {},
     "output_type": "execute_result"
    }
   ],
   "source": [
    "# This a simple arithmetic expression to mutiply then add integers\n",
    "\n",
    "(3*4)+7"
   ]
  },
  {
   "cell_type": "code",
   "execution_count": 4,
   "id": "cce63968",
   "metadata": {},
   "outputs": [
    {
     "data": {
      "text/plain": [
       "3.3333333333333335"
      ]
     },
     "execution_count": 4,
     "metadata": {},
     "output_type": "execute_result"
    }
   ],
   "source": [
    "# This will convert 200 minutes to hours by diving by 60\n",
    "\n",
    "200/60"
   ]
  },
  {
   "cell_type": "markdown",
   "id": "d617db40",
   "metadata": {},
   "source": [
    "**Objectives:**\n",
    "* List of Data Science Tools\n",
    "* List of popular Data Science Languages\n",
    "* List of Arithmatic Expressions\n",
    "* Executed some code cells\n"
   ]
  },
  {
   "cell_type": "markdown",
   "id": "5c893333",
   "metadata": {},
   "source": [
    "## Author\n",
    "Sachin Utage"
   ]
  },
  {
   "cell_type": "markdown",
   "id": "089d24cb",
   "metadata": {},
   "source": []
  }
 ],
 "metadata": {
  "kernelspec": {
   "display_name": "Python 3",
   "language": "python",
   "name": "python3"
  },
  "language_info": {
   "codemirror_mode": {
    "name": "ipython",
    "version": 3
   },
   "file_extension": ".py",
   "mimetype": "text/x-python",
   "name": "python",
   "nbconvert_exporter": "python",
   "pygments_lexer": "ipython3",
   "version": "3.13.5"
  }
 },
 "nbformat": 4,
 "nbformat_minor": 5
}
